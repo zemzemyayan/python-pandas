{
 "cells": [
  {
   "cell_type": "code",
   "execution_count": 1,
   "id": "155d3985-0706-49f0-9fc9-78be37cab837",
   "metadata": {},
   "outputs": [],
   "source": [
    "import pandas as pd \n",
    "import numpy as np "
   ]
  },
  {
   "cell_type": "markdown",
   "id": "04c1f41e-9068-467c-92e3-efa6f445f877",
   "metadata": {},
   "source": [
    "Bu bölümde pandasın 2. veri tipi olan DataFrame(veri çerçeveleri) ni işleyceğiz.Verilen basit örneklerden dataframe yapısının nasıl çalıştığını, satır sütun ve veri kaydı mantığının nasıl çalıştığını anlamaya çalışalım."
   ]
  },
  {
   "cell_type": "markdown",
   "id": "7e6174c7-2b34-4e48-b395-1518ee031e9b",
   "metadata": {},
   "source": [
    "DataFrame yapılarını aynı sql tabloları gibi düşünebiliriz sql tablolarında her bir satır için veri kaydı ifadesini \n",
    "kullanırız her bir veri kaydı içinde bir ID değeri mutlaka vardır.Tablolarda sütun lar değişken isimlerimizi satırlar \n",
    "dedğimiz gibi veri kaydını oluşturuyordu.DataFrame de de aynı satır ve sütunlardan oluşan bir yapı mevcuttur.Başta bir dictionary yapısı üzerinden sonra da örnek bir veri seti üzerinden inceleme yapalım"
   ]
  },
  {
   "cell_type": "code",
   "execution_count": 4,
   "id": "f0bc4795-4943-475b-bfea-9cf4336fd81b",
   "metadata": {},
   "outputs": [
    {
     "name": "stdout",
     "output_type": "stream",
     "text": [
      "[{'name': 'arin', 'age': 21, 'gender': 'F'}, {'name': 'mehmet', 'age': 22, 'gender': 'M'}, {'name': 'fatih', 'age': 23, 'gender': 'M'}, {'name': 'hakan', 'age': 23, 'gender': 'M'}, {'name': 'nazan', 'age': 23, 'gender': 'F'}]\n",
      "\n",
      "<class 'list'>\n",
      "     name  age gender\n",
      "0    arin   21      F\n",
      "1  mehmet   22      M\n",
      "2   fatih   23      M\n",
      "3   hakan   23      M\n",
      "4   nazan   23      F\n",
      "<class 'pandas.core.frame.DataFrame'>\n"
     ]
    }
   ],
   "source": [
    "# 1.örnek\n",
    "ogrenci=[\n",
    "    {\n",
    "        \"name\":\"arin\", \n",
    "        \"age\": 21, \n",
    "        \"gender\":\"F\"\n",
    "    },\n",
    "\n",
    "    {\n",
    "        \"name\":\"mehmet\", \n",
    "        \"age\": 22, \n",
    "        \"gender\":\"M\"\n",
    "    },\n",
    "\n",
    "    {\n",
    "        \"name\":\"fatih\", \n",
    "        \"age\": 23,\n",
    "        \"gender\":\"M\"\n",
    "    },\n",
    "\n",
    "    {\n",
    "        \"name\":\"hakan\", \n",
    "        \"age\": 23,\n",
    "        \"gender\":\"M\"\n",
    "    }, \n",
    "\n",
    "    {\n",
    "        \"name\":\"nazan\", \n",
    "        \"age\": 23,\n",
    "        \"gender\":\"F\"\n",
    "    }\n",
    "]\n",
    "\n",
    "print(ogrenci)\n",
    "print()\n",
    "print(type(ogrenci))\n",
    "# dictionarylerden oluşan listeyi bir daatframe çevirelim: \n",
    "df_ogrenci=pd.DataFrame(ogrenci)\n",
    "print(df_ogrenci)\n",
    "print(type(df_ogrenci))"
   ]
  },
  {
   "cell_type": "markdown",
   "id": "5cbf6c36-2b3a-41bc-a41c-8b66340b2781",
   "metadata": {},
   "source": [
    "dataframe yapısı aynı sql tablosundaki gibi değişkenlerden(name,age,gender) ve veri kayıtlarından ve kayıt ID lerinden oluşmakta"
   ]
  },
  {
   "cell_type": "code",
   "execution_count": 6,
   "id": "0d9f7bb2-ba27-44f0-acdd-c32544b926b6",
   "metadata": {},
   "outputs": [
    {
     "name": "stdout",
     "output_type": "stream",
     "text": [
      "{'names': ['ahmet', 'mehmet', 'cansu', 'nalan', 'arzu', 'fikret'], 'ages': [23, 33, 28, 27, 25, 26], 'genders': ['M', 'M', 'F', 'F', 'F', 'M']}\n",
      "<class 'dict'>\n",
      "\n",
      "    names  ages genders\n",
      "0   ahmet    23       M\n",
      "1  mehmet    33       M\n",
      "2   cansu    28       F\n",
      "3   nalan    27       F\n",
      "4    arzu    25       F\n",
      "5  fikret    26       M\n",
      "<class 'pandas.core.frame.DataFrame'>\n"
     ]
    }
   ],
   "source": [
    "# 2.örnek\n",
    "teachers={\n",
    "    \"names\":[\"ahmet\",\"mehmet\",\"cansu\",\"nalan\",\"arzu\",\"fikret\"],\n",
    "    \"ages\":[23,33,28,27,25,26],\n",
    "    \"genders\":[\"M\",\"M\",\"F\",\"F\",\"F\",\"M\"]\n",
    "}\n",
    "print(teachers)\n",
    "print(type(teachers))\n",
    "print()\n",
    "df_teachers=pd.DataFrame(teachers)\n",
    "print(df_teachers)\n",
    "print(type(df_teachers))"
   ]
  },
  {
   "cell_type": "code",
   "execution_count": 7,
   "id": "a8ad8e7f-2e6f-4f83-b5c7-e97b148e9b57",
   "metadata": {},
   "outputs": [
    {
     "name": "stdout",
     "output_type": "stream",
     "text": [
      "[['ahmet', 'mehmet', 'cansu', 'fidan'], [34, 32, 32, 38], ['M', 'M', 'F', 'F']]\n",
      "<class 'list'>\n",
      "\n",
      "       0       1      2      3\n",
      "0  ahmet  mehmet  cansu  fidan\n",
      "1     34      32     32     38\n",
      "2      M       M      F      F\n",
      "<class 'pandas.core.frame.DataFrame'>\n"
     ]
    }
   ],
   "source": [
    "# 3. örnek\n",
    "list_of_list=[\n",
    "    [\"ahmet\",\"mehmet\",\"cansu\",\"fidan\"],\n",
    "    [34,32,32,38],\n",
    "    [\"M\",\"M\",\"F\",\"F\"]\n",
    "]\n",
    "print(list_of_list)\n",
    "print(type(list_of_list))\n",
    "print()\n",
    "df_list_of_list=pd.DataFrame(list_of_list)\n",
    "print(df_list_of_list)\n",
    "print(type(df_list_of_list))"
   ]
  },
  {
   "cell_type": "markdown",
   "id": "17b30b10-6741-47f9-ad6d-a60e46e1ff18",
   "metadata": {},
   "source": [
    "iç içe liste yapısında veriler için herhangi bir key degeri(değişken ismi) vermedik dataframe yapısı veriler için ıd degerleri ve sütun degerleri atamış oldu "
   ]
  },
  {
   "cell_type": "code",
   "execution_count": 9,
   "id": "55e64954-e54a-4356-bdc2-1bb002626474",
   "metadata": {},
   "outputs": [
    {
     "name": "stdout",
     "output_type": "stream",
     "text": [
      "['ahmet', 'mehmet', 'ayse', 'fatma']\n",
      "\n",
      "        0\n",
      "0   ahmet\n",
      "1  mehmet\n",
      "2    ayse\n",
      "3   fatma\n",
      "2\n"
     ]
    }
   ],
   "source": [
    "# 4.örnek\n",
    "names=[\"ahmet\",\"mehmet\",\"ayse\",\"fatma\"]\n",
    "print(names)\n",
    "print()\n",
    "df_names=pd.DataFrame(names)\n",
    "print(df_names)\n",
    "print(df_names.ndim)"
   ]
  },
  {
   "cell_type": "markdown",
   "id": "11767dc5-cb58-46f8-a014-6a55e850210b",
   "metadata": {},
   "source": [
    "aşağıdaki kullanım bize şöyle bir hata verecektir: \"ValueError: If using all scalar values, you must pass an index\" yani\n",
    "Tüm skaler değerleri kullanıyorsanız bir indeks iletmelisiniz klasik bir dictionary yapısında burda index verilerini belirgin bir şeklide vermiş olmamız gerek sql tablosunu düşünelim burda belli bir değişken ismi yok!\n"
   ]
  },
  {
   "cell_type": "code",
   "execution_count": 11,
   "id": "6b581336-3370-4eef-9119-804025caef88",
   "metadata": {},
   "outputs": [
    {
     "name": "stdout",
     "output_type": "stream",
     "text": [
      "{'name': 'hale', 'age': 24}\n",
      "<class 'dict'>\n"
     ]
    },
    {
     "ename": "ValueError",
     "evalue": "If using all scalar values, you must pass an index",
     "output_type": "error",
     "traceback": [
      "\u001b[1;31m---------------------------------------------------------------------------\u001b[0m",
      "\u001b[1;31mValueError\u001b[0m                                Traceback (most recent call last)",
      "Cell \u001b[1;32mIn[11], line 4\u001b[0m\n\u001b[0;32m      2\u001b[0m \u001b[38;5;28mprint\u001b[39m(ogr)\n\u001b[0;32m      3\u001b[0m \u001b[38;5;28mprint\u001b[39m(\u001b[38;5;28mtype\u001b[39m(ogr))\n\u001b[1;32m----> 4\u001b[0m df_ogr\u001b[38;5;241m=\u001b[39m\u001b[43mpd\u001b[49m\u001b[38;5;241;43m.\u001b[39;49m\u001b[43mDataFrame\u001b[49m\u001b[43m(\u001b[49m\u001b[43mogr\u001b[49m\u001b[43m)\u001b[49m\n\u001b[0;32m      5\u001b[0m \u001b[38;5;28mprint\u001b[39m(df_ogr)\n",
      "File \u001b[1;32m~\\AppData\\Local\\Programs\\Python\\Python311\\Lib\\site-packages\\pandas\\core\\frame.py:733\u001b[0m, in \u001b[0;36mDataFrame.__init__\u001b[1;34m(self, data, index, columns, dtype, copy)\u001b[0m\n\u001b[0;32m    727\u001b[0m     mgr \u001b[38;5;241m=\u001b[39m \u001b[38;5;28mself\u001b[39m\u001b[38;5;241m.\u001b[39m_init_mgr(\n\u001b[0;32m    728\u001b[0m         data, axes\u001b[38;5;241m=\u001b[39m{\u001b[38;5;124m\"\u001b[39m\u001b[38;5;124mindex\u001b[39m\u001b[38;5;124m\"\u001b[39m: index, \u001b[38;5;124m\"\u001b[39m\u001b[38;5;124mcolumns\u001b[39m\u001b[38;5;124m\"\u001b[39m: columns}, dtype\u001b[38;5;241m=\u001b[39mdtype, copy\u001b[38;5;241m=\u001b[39mcopy\n\u001b[0;32m    729\u001b[0m     )\n\u001b[0;32m    731\u001b[0m \u001b[38;5;28;01melif\u001b[39;00m \u001b[38;5;28misinstance\u001b[39m(data, \u001b[38;5;28mdict\u001b[39m):\n\u001b[0;32m    732\u001b[0m     \u001b[38;5;66;03m# GH#38939 de facto copy defaults to False only in non-dict cases\u001b[39;00m\n\u001b[1;32m--> 733\u001b[0m     mgr \u001b[38;5;241m=\u001b[39m \u001b[43mdict_to_mgr\u001b[49m\u001b[43m(\u001b[49m\u001b[43mdata\u001b[49m\u001b[43m,\u001b[49m\u001b[43m \u001b[49m\u001b[43mindex\u001b[49m\u001b[43m,\u001b[49m\u001b[43m \u001b[49m\u001b[43mcolumns\u001b[49m\u001b[43m,\u001b[49m\u001b[43m \u001b[49m\u001b[43mdtype\u001b[49m\u001b[38;5;241;43m=\u001b[39;49m\u001b[43mdtype\u001b[49m\u001b[43m,\u001b[49m\u001b[43m \u001b[49m\u001b[43mcopy\u001b[49m\u001b[38;5;241;43m=\u001b[39;49m\u001b[43mcopy\u001b[49m\u001b[43m,\u001b[49m\u001b[43m \u001b[49m\u001b[43mtyp\u001b[49m\u001b[38;5;241;43m=\u001b[39;49m\u001b[43mmanager\u001b[49m\u001b[43m)\u001b[49m\n\u001b[0;32m    734\u001b[0m \u001b[38;5;28;01melif\u001b[39;00m \u001b[38;5;28misinstance\u001b[39m(data, ma\u001b[38;5;241m.\u001b[39mMaskedArray):\n\u001b[0;32m    735\u001b[0m     \u001b[38;5;28;01mfrom\u001b[39;00m \u001b[38;5;21;01mnumpy\u001b[39;00m\u001b[38;5;21;01m.\u001b[39;00m\u001b[38;5;21;01mma\u001b[39;00m \u001b[38;5;28;01mimport\u001b[39;00m mrecords\n",
      "File \u001b[1;32m~\\AppData\\Local\\Programs\\Python\\Python311\\Lib\\site-packages\\pandas\\core\\internals\\construction.py:503\u001b[0m, in \u001b[0;36mdict_to_mgr\u001b[1;34m(data, index, columns, dtype, typ, copy)\u001b[0m\n\u001b[0;32m    499\u001b[0m     \u001b[38;5;28;01melse\u001b[39;00m:\n\u001b[0;32m    500\u001b[0m         \u001b[38;5;66;03m# dtype check to exclude e.g. range objects, scalars\u001b[39;00m\n\u001b[0;32m    501\u001b[0m         arrays \u001b[38;5;241m=\u001b[39m [x\u001b[38;5;241m.\u001b[39mcopy() \u001b[38;5;28;01mif\u001b[39;00m \u001b[38;5;28mhasattr\u001b[39m(x, \u001b[38;5;124m\"\u001b[39m\u001b[38;5;124mdtype\u001b[39m\u001b[38;5;124m\"\u001b[39m) \u001b[38;5;28;01melse\u001b[39;00m x \u001b[38;5;28;01mfor\u001b[39;00m x \u001b[38;5;129;01min\u001b[39;00m arrays]\n\u001b[1;32m--> 503\u001b[0m \u001b[38;5;28;01mreturn\u001b[39;00m \u001b[43marrays_to_mgr\u001b[49m\u001b[43m(\u001b[49m\u001b[43marrays\u001b[49m\u001b[43m,\u001b[49m\u001b[43m \u001b[49m\u001b[43mcolumns\u001b[49m\u001b[43m,\u001b[49m\u001b[43m \u001b[49m\u001b[43mindex\u001b[49m\u001b[43m,\u001b[49m\u001b[43m \u001b[49m\u001b[43mdtype\u001b[49m\u001b[38;5;241;43m=\u001b[39;49m\u001b[43mdtype\u001b[49m\u001b[43m,\u001b[49m\u001b[43m \u001b[49m\u001b[43mtyp\u001b[49m\u001b[38;5;241;43m=\u001b[39;49m\u001b[43mtyp\u001b[49m\u001b[43m,\u001b[49m\u001b[43m \u001b[49m\u001b[43mconsolidate\u001b[49m\u001b[38;5;241;43m=\u001b[39;49m\u001b[43mcopy\u001b[49m\u001b[43m)\u001b[49m\n",
      "File \u001b[1;32m~\\AppData\\Local\\Programs\\Python\\Python311\\Lib\\site-packages\\pandas\\core\\internals\\construction.py:114\u001b[0m, in \u001b[0;36marrays_to_mgr\u001b[1;34m(arrays, columns, index, dtype, verify_integrity, typ, consolidate)\u001b[0m\n\u001b[0;32m    111\u001b[0m \u001b[38;5;28;01mif\u001b[39;00m verify_integrity:\n\u001b[0;32m    112\u001b[0m     \u001b[38;5;66;03m# figure out the index, if necessary\u001b[39;00m\n\u001b[0;32m    113\u001b[0m     \u001b[38;5;28;01mif\u001b[39;00m index \u001b[38;5;129;01mis\u001b[39;00m \u001b[38;5;28;01mNone\u001b[39;00m:\n\u001b[1;32m--> 114\u001b[0m         index \u001b[38;5;241m=\u001b[39m \u001b[43m_extract_index\u001b[49m\u001b[43m(\u001b[49m\u001b[43marrays\u001b[49m\u001b[43m)\u001b[49m\n\u001b[0;32m    115\u001b[0m     \u001b[38;5;28;01melse\u001b[39;00m:\n\u001b[0;32m    116\u001b[0m         index \u001b[38;5;241m=\u001b[39m ensure_index(index)\n",
      "File \u001b[1;32m~\\AppData\\Local\\Programs\\Python\\Python311\\Lib\\site-packages\\pandas\\core\\internals\\construction.py:667\u001b[0m, in \u001b[0;36m_extract_index\u001b[1;34m(data)\u001b[0m\n\u001b[0;32m    664\u001b[0m         \u001b[38;5;28;01mraise\u001b[39;00m \u001b[38;5;167;01mValueError\u001b[39;00m(\u001b[38;5;124m\"\u001b[39m\u001b[38;5;124mPer-column arrays must each be 1-dimensional\u001b[39m\u001b[38;5;124m\"\u001b[39m)\n\u001b[0;32m    666\u001b[0m \u001b[38;5;28;01mif\u001b[39;00m \u001b[38;5;129;01mnot\u001b[39;00m indexes \u001b[38;5;129;01mand\u001b[39;00m \u001b[38;5;129;01mnot\u001b[39;00m raw_lengths:\n\u001b[1;32m--> 667\u001b[0m     \u001b[38;5;28;01mraise\u001b[39;00m \u001b[38;5;167;01mValueError\u001b[39;00m(\u001b[38;5;124m\"\u001b[39m\u001b[38;5;124mIf using all scalar values, you must pass an index\u001b[39m\u001b[38;5;124m\"\u001b[39m)\n\u001b[0;32m    669\u001b[0m \u001b[38;5;28;01mif\u001b[39;00m have_series:\n\u001b[0;32m    670\u001b[0m     index \u001b[38;5;241m=\u001b[39m union_indexes(indexes)\n",
      "\u001b[1;31mValueError\u001b[0m: If using all scalar values, you must pass an index"
     ]
    }
   ],
   "source": [
    "ogr={\"name\":\"hale\",\"age\":24}\n",
    "print(ogr)\n",
    "print(type(ogr))\n",
    "df_ogr=pd.DataFrame(ogr)\n",
    "print(df_ogr)"
   ]
  },
  {
   "cell_type": "markdown",
   "id": "6aafeffe-3112-4691-a73c-3bdcd97382f2",
   "metadata": {},
   "source": [
    "Hatanın düzelmesi için aşağıdaki gibi index değerleri vererek yeni bir yapı oluşturalım"
   ]
  },
  {
   "cell_type": "code",
   "execution_count": 12,
   "id": "8bf838d2-6288-42b3-a302-3c1d3f6c1f77",
   "metadata": {},
   "outputs": [
    {
     "name": "stdout",
     "output_type": "stream",
     "text": [
      "{'Hale': age           25\n",
      "gender         F\n",
      "departmant    CE\n",
      "dtype: object, 'Ahmet': age           25\n",
      "gender         M\n",
      "departmant    EE\n",
      "dtype: object}\n",
      "<class 'dict'>\n",
      "\n",
      "           Hale Ahmet\n",
      "age          25    25\n",
      "gender        F     M\n",
      "departmant   CE    EE\n"
     ]
    }
   ],
   "source": [
    "# 5. örnek\n",
    "ogr1={\"Hale\":pd.Series(data=[25,\"F\",\"CE\"], index=[\"age\",\"gender\",\"departmant\"]),\n",
    "     \"Ahmet\":pd.Series(data=[25,\"M\",\"EE\"], index=[\"age\",\"gender\",\"departmant\"])\n",
    "    }\n",
    "\n",
    "print(ogr1)\n",
    "print(type(ogr1))\n",
    "print()\n",
    "df_ogr1=pd.DataFrame(ogr1)\n",
    "print(df_ogr1)"
   ]
  },
  {
   "cell_type": "markdown",
   "id": "e7b60cc1-822f-4f3f-a685-c7cb581bcf0c",
   "metadata": {},
   "source": [
    "yukarıdaki yapıda sql tablosu ile karşılaştırıcak olursak \"Hale\" ve \"Ahmet\" değişken ismimlerini, index değerleri ise tablodaki ID degerlerini Series yapıları ise kayıtların kendisini temsil etmektedir"
   ]
  },
  {
   "cell_type": "markdown",
   "id": "4d85ed22-2057-4201-a308-5aefe08c5d46",
   "metadata": {},
   "source": [
    "yukaridaki veri yapısından devam edecek olursak; \"Hale\" için height adında yeni bir index degeri \"Ahmet\" için ise \"Hale\" den farklı olarak yeni bir weight index degeri ekleyelim ve iki değişken için ortak index degerlerine ilaveten farklı index değerleri için dataframe yapısının nasıl davrandığını inceleyelim"
   ]
  },
  {
   "cell_type": "code",
   "execution_count": 13,
   "id": "d1b490b2-4028-4309-b9aa-cdaac706c4ef",
   "metadata": {},
   "outputs": [
    {
     "name": "stdout",
     "output_type": "stream",
     "text": [
      "{'Hale': age            25\n",
      "gender          F\n",
      "departmant     CE\n",
      "height        172\n",
      "dtype: object, 'Ahmet': age           25\n",
      "gender         M\n",
      "departmant    EE\n",
      "weight        83\n",
      "dtype: object}\n",
      "\n",
      "           Hale Ahmet\n",
      "age          25    25\n",
      "departmant   CE    EE\n",
      "gender        F     M\n",
      "height      172   NaN\n",
      "weight      NaN    83\n"
     ]
    }
   ],
   "source": [
    "ogr2={\"Hale\":pd.Series(data=[25,\"F\",\"CE\",172], index=[\"age\",\"gender\",\"departmant\",\"height\"]),\n",
    "     \"Ahmet\":pd.Series(data=[25,\"M\",\"EE\",83], index=[\"age\",\"gender\",\"departmant\",\"weight\"])\n",
    "    }\n",
    "print(ogr2)\n",
    "print()\n",
    "df_ogr2=pd.DataFrame(ogr2)\n",
    "print(df_ogr2)"
   ]
  },
  {
   "cell_type": "markdown",
   "id": "cf27ad4c-3920-440a-8954-9617be41d0fa",
   "metadata": {},
   "source": [
    "Görülüdüğü gibi heigtht index degeri Hale için varken Ahmet için yok bu yüzden karşılığına gelicek bir veri de yok dolayısıyla dataframe olmayan veri degerleri için NaN ifadesini kullanır"
   ]
  },
  {
   "cell_type": "code",
   "execution_count": null,
   "id": "810d7c73-28a4-4f58-b95b-dd15c0912323",
   "metadata": {},
   "outputs": [],
   "source": []
  }
 ],
 "metadata": {
  "kernelspec": {
   "display_name": "Python 3 (ipykernel)",
   "language": "python",
   "name": "python3"
  },
  "language_info": {
   "codemirror_mode": {
    "name": "ipython",
    "version": 3
   },
   "file_extension": ".py",
   "mimetype": "text/x-python",
   "name": "python",
   "nbconvert_exporter": "python",
   "pygments_lexer": "ipython3",
   "version": "3.11.0"
  }
 },
 "nbformat": 4,
 "nbformat_minor": 5
}
