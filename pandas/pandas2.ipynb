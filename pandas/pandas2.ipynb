{
 "cells": [
  {
   "cell_type": "markdown",
   "id": "22c2bf2b-2b80-468b-8587-2332108c7a08",
   "metadata": {},
   "source": [
    "Bu derste Pandas serilerine nasıl ulaşırız onlar üzerinde hangi işlemleri yapabiliriz bunları inceleyeceğiz"
   ]
  },
  {
   "cell_type": "code",
   "execution_count": 1,
   "id": "f71844c3-a110-489b-92b7-3227eb2b09ca",
   "metadata": {},
   "outputs": [],
   "source": [
    "import pandas as pd \n",
    "import numpy as np "
   ]
  },
  {
   "cell_type": "markdown",
   "id": "f08d0bd3-c4db-46b3-b0b7-0b00567140da",
   "metadata": {},
   "source": [
    "series veri yapısına verdiğimiz ilk liste verileri ikinci liste ise index numaralarını temsil eder yani biz \n",
    "liste yapısı içerisinde data= ve index= şeklinde belirtmek zorunda değiliz"
   ]
  },
  {
   "cell_type": "code",
   "execution_count": 2,
   "id": "3b49f4fe-aeb5-43bf-bdd2-d697235d6713",
   "metadata": {},
   "outputs": [
    {
     "name": "stdout",
     "output_type": "stream",
     "text": [
      "name          Ahmet\n",
      "surname       hakan\n",
      "age              23\n",
      "departmant       CE\n",
      "dtype: object\n"
     ]
    }
   ],
   "source": [
    "ogrenci=pd.Series([\"Ahmet\",\"hakan\",23,\"CE\"], [\"name\",\"surname\",\"age\",\"departmant\"])\n",
    "print(ogrenci)"
   ]
  },
  {
   "cell_type": "code",
   "execution_count": 3,
   "id": "8b5a7677-0e4c-42d9-a841-fbcad57563ec",
   "metadata": {},
   "outputs": [
    {
     "name": "stdout",
     "output_type": "stream",
     "text": [
      "Ahmet\n",
      "\n",
      "name    Ahmet\n",
      "age        23\n",
      "dtype: object\n",
      "<class 'pandas.core.series.Series'>\n"
     ]
    }
   ],
   "source": [
    "# series verilerine index degerleri üzerinden erişim sağlarız \n",
    "print(ogrenci[\"name\"])\n",
    "print()\n",
    "# eğer çoklu index degerlerine erişmek istersek index degerlerini iç içe liste halinde yazmalıyız\n",
    "print(ogrenci[[\"name\",\"age\"]])\n",
    "# Not yukarıdaki yapı da bir seried yapısıdır\n",
    "print(type(ogrenci[[\"name\",\"age\"]]))"
   ]
  },
  {
   "cell_type": "code",
   "execution_count": 14,
   "id": "404302f1-4423-474a-a976-f90f3d9d56b8",
   "metadata": {},
   "outputs": [
    {
     "name": "stdout",
     "output_type": "stream",
     "text": [
      "name          Ahmet\n",
      "surname       hakan\n",
      "age              23\n",
      "departmant       CE\n",
      "dtype: object\n",
      "\n",
      "age           23\n",
      "departmant    CE\n",
      "dtype: object\n",
      "\n",
      "name          Ahmet\n",
      "surname       hakan\n",
      "age              23\n",
      "departmant       CE\n",
      "dtype: object\n"
     ]
    }
   ],
   "source": [
    "# series veri yapısı içindeki değerlere numerik indexler üzerinden de ulaşabiliriz: \n",
    "ogrenci=pd.Series([\"Ahmet\",\"hakan\",23,\"CE\"], [\"name\",\"surname\",\"age\",\"departmant\"])\n",
    "# print(ogrenci[2])\n",
    "# tüm verilere erişmek istersek: \n",
    "print(ogrenci[0:])\n",
    "print()\n",
    "# sondan ikinci elemandan sonraki tüm dgerleri almak \n",
    "print(ogrenci[-2:])\n",
    "print()\n",
    "# name indexinden departmant indexine kadar görüntülemek için: \n",
    "print(ogrenci[\"name\":\"departmant\"])"
   ]
  },
  {
   "cell_type": "markdown",
   "id": "4a69bb15-fac4-4338-9da8-02bde44ddd6d",
   "metadata": {},
   "source": [
    "series veri yapılarına ulaşmak için location ve loc şeklinde iki ayrı yöntem daha vardır. location\n",
    "kullanmak için series veri yapısnın kendi index degerlerini kullanırız. loc kullanmak için numerik index yapısı kullanırız"
   ]
  },
  {
   "cell_type": "code",
   "execution_count": 15,
   "id": "850db5c2-0526-45a2-9b3c-a91ae459457b",
   "metadata": {},
   "outputs": [
    {
     "name": "stdout",
     "output_type": "stream",
     "text": [
      "CE\n",
      "CE\n"
     ]
    }
   ],
   "source": [
    "ogrenci=pd.Series([\"Ahmet\",\"hakan\",23,\"CE\"], [\"name\",\"surname\",\"age\",\"departmant\"])\n",
    "print(ogrenci.loc[\"departmant\"])\n",
    "print(ogrenci.iloc[3])\n",
    "# print(ogrenci.loc[1]) ->  hata alırız"
   ]
  },
  {
   "cell_type": "markdown",
   "id": "a2fd9545-dd14-4fa8-888f-3aefb6955edd",
   "metadata": {},
   "source": [
    "pandas serileri mutable nesnelerdir yani pandas serilerini sonradan değiştirebiliriz inceleyelim"
   ]
  },
  {
   "cell_type": "code",
   "execution_count": 16,
   "id": "c778c4cd-f314-436b-aa84-c1a2fa7db95e",
   "metadata": {},
   "outputs": [
    {
     "name": "stdout",
     "output_type": "stream",
     "text": [
      "name          Ahmet\n",
      "surname       hakan\n",
      "age              23\n",
      "departmant       CE\n",
      "dtype: object\n",
      "\n",
      "name          Mehmet\n",
      "surname        hakan\n",
      "age               35\n",
      "departmant        CE\n",
      "dtype: object\n"
     ]
    }
   ],
   "source": [
    "ogrenci=pd.Series([\"Ahmet\",\"hakan\",23,\"CE\"], [\"name\",\"surname\",\"age\",\"departmant\"])\n",
    "print(ogrenci)\n",
    "print()\n",
    "ogrenci[\"name\"]=\"Mehmet\"\n",
    "ogrenci.iloc[2]=35\n",
    "print(ogrenci)"
   ]
  },
  {
   "cell_type": "code",
   "execution_count": 17,
   "id": "10350e07-b836-4de7-8bde-415dfc018910",
   "metadata": {},
   "outputs": [
    {
     "name": "stdout",
     "output_type": "stream",
     "text": [
      "name          Ahmet\n",
      "surname       hakan\n",
      "age              23\n",
      "departmant       CE\n",
      "dtype: object\n",
      "\n",
      "name          Ahmet\n",
      "surname       hakan\n",
      "age              23\n",
      "departmant       CE\n",
      "dtype: object\n"
     ]
    }
   ],
   "source": [
    "# drop komutu aşağıdaki gibi kullanılırsa orjinal seride bir değişiklik yapmaz \n",
    "ogrenci=pd.Series([\"Ahmet\",\"hakan\",23,\"CE\"], [\"name\",\"surname\",\"age\",\"departmant\"])\n",
    "print(ogrenci)\n",
    "print()\n",
    "ogrenci.drop(\"name\")\n",
    "print(ogrenci)"
   ]
  },
  {
   "cell_type": "code",
   "execution_count": 19,
   "id": "be927a4c-07f7-4622-b46b-f4db565c12ac",
   "metadata": {},
   "outputs": [
    {
     "name": "stdout",
     "output_type": "stream",
     "text": [
      "name          Ahmet\n",
      "surname       hakan\n",
      "age              23\n",
      "departmant       CE\n",
      "dtype: object\n",
      "\n",
      "surname       hakan\n",
      "age              23\n",
      "departmant       CE\n",
      "dtype: object\n"
     ]
    }
   ],
   "source": [
    "# drop işleminin seride kalıcı bir silme işlemi yapmasını istersek inplace prmtresi kullanılır\n",
    "ogrenci=pd.Series([\"Ahmet\",\"hakan\",23,\"CE\"], [\"name\",\"surname\",\"age\",\"departmant\"])\n",
    "print(ogrenci)\n",
    "print()\n",
    "ogrenci.drop(\"name\", inplace=True)\n",
    "print(ogrenci)"
   ]
  },
  {
   "cell_type": "code",
   "execution_count": 23,
   "id": "ecac9a6f-87f8-4ce4-a504-79dd3b6604e3",
   "metadata": {},
   "outputs": [
    {
     "name": "stdout",
     "output_type": "stream",
     "text": [
      "4\n",
      "['Ahmet', 'hakan', 'yirmi üc', 'CE']\n",
      "{'name': 'Ahmet', 'surname': 'hakan', 'age': 'yirmi üc', 'departmant': 'CE'}\n",
      "['Ahmet', 'CE', 'hakan', 'yirmi üc']\n",
      "Ahmet\n",
      "yirmi üc\n"
     ]
    }
   ],
   "source": [
    "# aşağıdaki işlemleri inceleyelim\n",
    "ogrenci=pd.Series([\"Ahmet\",\"hakan\",\"yirmi üc\",\"CE\"], [\"name\",\"surname\",\"age\",\"departmant\"])\n",
    "# series yapısının uzunluğunu görmek için: \n",
    "print(len(ogrenci))\n",
    "# series yapısını list yapısına çevirmek istersek: \n",
    "print(list(ogrenci))\n",
    "# series serisini dictionary yapısına çevirmek istersek: \n",
    "print(dict(ogrenci))\n",
    "# veri setini sıralamak istersek: \n",
    "print(sorted(ogrenci))\n",
    "# min ve max deegerlerine bakarsak: \n",
    "print(min(ogrenci))\n",
    "print(max(ogrenci))"
   ]
  },
  {
   "cell_type": "code",
   "execution_count": null,
   "id": "082b640d-3fd6-4d84-a0d7-ecfc07f85c5c",
   "metadata": {},
   "outputs": [],
   "source": []
  },
  {
   "cell_type": "code",
   "execution_count": null,
   "id": "0ebd641c-cdee-4ba1-a0e1-ac6e1f27624c",
   "metadata": {},
   "outputs": [],
   "source": []
  },
  {
   "cell_type": "code",
   "execution_count": null,
   "id": "26510ad3-dd5e-485c-8b86-9528a24e0356",
   "metadata": {},
   "outputs": [],
   "source": []
  },
  {
   "cell_type": "code",
   "execution_count": null,
   "id": "980543ac-6bf0-45f2-983f-74e6c2f1c22c",
   "metadata": {},
   "outputs": [],
   "source": []
  },
  {
   "cell_type": "code",
   "execution_count": null,
   "id": "65653ca3-ca2d-4645-9cfa-be07e3626a6f",
   "metadata": {},
   "outputs": [],
   "source": []
  },
  {
   "cell_type": "code",
   "execution_count": null,
   "id": "7adaeaf3-f80c-4576-a92f-fee8e16aa588",
   "metadata": {},
   "outputs": [],
   "source": []
  }
 ],
 "metadata": {
  "kernelspec": {
   "display_name": "Python 3 (ipykernel)",
   "language": "python",
   "name": "python3"
  },
  "language_info": {
   "codemirror_mode": {
    "name": "ipython",
    "version": 3
   },
   "file_extension": ".py",
   "mimetype": "text/x-python",
   "name": "python",
   "nbconvert_exporter": "python",
   "pygments_lexer": "ipython3",
   "version": "3.11.0"
  }
 },
 "nbformat": 4,
 "nbformat_minor": 5
}
