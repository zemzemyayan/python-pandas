{
 "cells": [
  {
   "cell_type": "code",
   "execution_count": 2,
   "id": "540207ab-26c4-4cd1-9216-69e300ca3a91",
   "metadata": {},
   "outputs": [],
   "source": [
    "import pandas as pd \n",
    "import numpy as np"
   ]
  },
  {
   "cell_type": "markdown",
   "id": "3bc3e975-b2e2-46ac-950c-1d40e0b96320",
   "metadata": {},
   "source": [
    "Bu bölümde dataframelerden alt dataframelerini nasıl oluşturabileceğimizi sub dataframelere nasıl erişim sağlayacğımızı ve bunlar üzerinde nasıl işlemler yapabileceğimizi inceleyeceğiz"
   ]
  },
  {
   "cell_type": "markdown",
   "id": "d2ba300a-9756-4916-8c16-a8af97bf7da9",
   "metadata": {},
   "source": [
    "1) dataframenin alt dataframelerine nasıl ulaştığımıza bakalım"
   ]
  },
  {
   "cell_type": "code",
   "execution_count": 8,
   "id": "c7662c06-8cb2-4efb-89e1-e8b4cda1f2e5",
   "metadata": {},
   "outputs": [
    {
     "name": "stdout",
     "output_type": "stream",
     "text": [
      "{'Hale': age           25\n",
      "gender         F\n",
      "departmant    CE\n",
      "height        67\n",
      "dtype: object, 'Ahmet': age           25\n",
      "gender         M\n",
      "departmant    EE\n",
      "height        83\n",
      "dtype: object, 'Fatma': age           25\n",
      "gender         F\n",
      "departmant    CE\n",
      "height        83\n",
      "dtype: object}\n",
      "\n",
      "           Hale Ahmet Fatma\n",
      "age          25    25    25\n",
      "gender        F     M     F\n",
      "departmant   CE    EE    CE\n",
      "height       67    83    83\n"
     ]
    }
   ],
   "source": [
    "# 1. örnek \n",
    "ogr1={\"Hale\":pd.Series(data=[25,\"F\",\"CE\",67], index=[\"age\",\"gender\",\"departmant\",\"height\"]),\n",
    "     \"Ahmet\":pd.Series(data=[25,\"M\",\"EE\",83], index=[\"age\",\"gender\",\"departmant\",\"height\"]), \n",
    "     \"Fatma\":pd.Series(data=[25,\"F\",\"CE\",83], index=[\"age\",\"gender\",\"departmant\",\"height\"])\n",
    "    }\n",
    "print(ogr1)\n",
    "print()\n",
    "df_ogr1=pd.DataFrame(ogr1)\n",
    "print(df_ogr1)"
   ]
  },
  {
   "cell_type": "code",
   "execution_count": 4,
   "id": "d7c7c73e-871c-42fe-9464-97b3b7e9dccc",
   "metadata": {},
   "outputs": [
    {
     "name": "stdout",
     "output_type": "stream",
     "text": [
      "           Hale\n",
      "age          25\n",
      "gender        F\n",
      "departmant   CE\n",
      "height       67\n"
     ]
    }
   ],
   "source": [
    "# örnek dataframe içinden sadece belli bir sütun verileri erişmek istersek: \n",
    "df_ornek1=pd.DataFrame(ogr1, columns=[\"Hale\"])\n",
    "print(df_ornek1)"
   ]
  },
  {
   "cell_type": "code",
   "execution_count": 5,
   "id": "237c172a-9b07-4f5c-921d-0938acd92e7a",
   "metadata": {},
   "outputs": [
    {
     "name": "stdout",
     "output_type": "stream",
     "text": [
      "           Hale Ahmet\n",
      "age          25    25\n",
      "gender        F     M\n",
      "departmant   CE    EE\n",
      "height       67    83\n"
     ]
    }
   ],
   "source": [
    "# dateframe içinden birden fazla sütun(değişken) çekmek istersek: \n",
    "df_ornek2=pd.DataFrame(ogr1, columns=[\"Hale\",\"Ahmet\"])\n",
    "print(df_ornek2)"
   ]
  },
  {
   "cell_type": "code",
   "execution_count": 7,
   "id": "8dd879b3-f438-45ef-8146-696da7021167",
   "metadata": {},
   "outputs": [
    {
     "name": "stdout",
     "output_type": "stream",
     "text": [
      "       Hale Ahmet Fatma\n",
      "age      25    25    25\n",
      "gender    F     M     F\n"
     ]
    }
   ],
   "source": [
    "# dateframe içerisinden sadece istenilen veri kayıtlarını(index ismi üzerinden erişilir) çekmek istersek: \n",
    "df_ornek3=pd.DataFrame(ogr1, index=[\"age\",\"gender\"])\n",
    "print(df_ornek3)"
   ]
  },
  {
   "cell_type": "code",
   "execution_count": 8,
   "id": "2edeb494-81b1-4aee-890c-bf16017aed27",
   "metadata": {},
   "outputs": [
    {
     "name": "stdout",
     "output_type": "stream",
     "text": [
      "       Hale Ahmet\n",
      "age      25    25\n",
      "height   67    83\n"
     ]
    }
   ],
   "source": [
    "# belli sütunların istenilen veri kayıtlarına(hem satır hem sütun) erişmek istersek: \n",
    "df_ornek4=pd.DataFrame(ogr1, columns=[\"Hale\",\"Ahmet\"], index=[\"age\",\"height\"])\n",
    "print(df_ornek4)"
   ]
  },
  {
   "cell_type": "markdown",
   "id": "fdc5864e-49f2-4f83-82fc-3d2e8cb49eb9",
   "metadata": {},
   "source": [
    "2) dataframelerin elemanlarına nasıl ulaştığımıza bakalım"
   ]
  },
  {
   "cell_type": "code",
   "execution_count": 17,
   "id": "f14bdb93-a37c-478c-9da9-68f7f3924ad7",
   "metadata": {},
   "outputs": [
    {
     "name": "stdout",
     "output_type": "stream",
     "text": [
      "age           25\n",
      "gender         M\n",
      "departmant    EE\n",
      "height        83\n",
      "Name: Ahmet, dtype: object\n",
      "<class 'pandas.core.series.Series'>\n"
     ]
    }
   ],
   "source": [
    "# 1)tek bir sütuna erişmek istersek\n",
    "ogr2={\"Hale\":pd.Series(data=[25,\"F\",\"CE\",67], index=[\"age\",\"gender\",\"departmant\",\"height\"]),\n",
    "     \"Ahmet\":pd.Series(data=[25,\"M\",\"EE\",83], index=[\"age\",\"gender\",\"departmant\",\"height\"]), \n",
    "     \"Fatma\":pd.Series(data=[25,\"F\",\"CE\",83], index=[\"age\",\"gender\",\"departmant\",\"height\"])\n",
    "    }\n",
    "df_ogr2=pd.DataFrame(ogr2)\n",
    "print(df_ogr2[\"Ahmet\"])\n",
    "# dönecek olan tek sütunlu verinin tipi de series veri yapısıdır: \n",
    "print(type(df_ogr2['Ahmet']))"
   ]
  },
  {
   "cell_type": "markdown",
   "id": "e3eeee25-0f3b-4a0a-8ce3-7bb9606ef7f8",
   "metadata": {},
   "source": [
    "DİKKAT: yukarıda dataframe veri yapısına ait tek bir sütunu görüntülerken notasyon olarak sütun ismini [] içinde yazarak veriyi çektik ve gelen veri tek boyutlu bir series veri yapısydı,eğer ki bir sütun ismini  [[]] içinde yazarak sütun verisini görüntülemek istersek dönecek olan yapı bir dataframe yapısı olarak karşımıza çıkacaktır bu iki farkı iyi inceleyiniz! "
   ]
  },
  {
   "cell_type": "code",
   "execution_count": 18,
   "id": "fb5fb73b-39c2-434a-9cc7-4c885786844c",
   "metadata": {},
   "outputs": [
    {
     "name": "stdout",
     "output_type": "stream",
     "text": [
      "           Ahmet\n",
      "age           25\n",
      "gender         M\n",
      "departmant    EE\n",
      "height        83\n",
      "<class 'pandas.core.frame.DataFrame'>\n"
     ]
    }
   ],
   "source": [
    "print(df_ogr2[[\"Ahmet\"]]) # sütun ismi iç içe iki [] içine yazılmış!\n",
    "print(type(df_ogr2[[\"Ahmet\"]]))\n"
   ]
  },
  {
   "cell_type": "code",
   "execution_count": 19,
   "id": "6550f79f-8877-4a80-aca2-11bc295cba99",
   "metadata": {},
   "outputs": [
    {
     "name": "stdout",
     "output_type": "stream",
     "text": [
      "           Ahmet Fatma\n",
      "age           25    25\n",
      "gender         M     F\n",
      "departmant    EE    CE\n",
      "height        83    83\n",
      "<class 'pandas.core.frame.DataFrame'>\n"
     ]
    }
   ],
   "source": [
    "# 2) birden fazla sütuna erişmek istersek \n",
    "print(df_ogr2[[\"Ahmet\",\"Fatma\"]])\n",
    "print(type(df_ogr2[[\"Ahmet\",\"Fatma\"]]))"
   ]
  },
  {
   "cell_type": "markdown",
   "id": "e4f9b318-9742-4033-be8b-e24d4846b3e0",
   "metadata": {},
   "source": [
    "DataFrame veri yapısının bir sql tablosu gibi düşünebilliyorduk şimdiye kadar tablonun sütun verilerine ulaşmaya çalıştık\n",
    "şimdi ise tablonun veri kayıtlarına yani dataframenin index degerlerine nasıl ulaştığımıza bakalım"
   ]
  },
  {
   "cell_type": "code",
   "execution_count": 3,
   "id": "46dd5800-5432-49b1-8a78-fa80569669a0",
   "metadata": {},
   "outputs": [
    {
     "name": "stdout",
     "output_type": "stream",
     "text": [
      "           Hale Ahmet Fatma\n",
      "age          25    25    25\n",
      "gender        F     M     F\n",
      "departmant   CE    EE    CE\n",
      "height       67    83    83\n",
      "\n",
      "Hale     25\n",
      "Ahmet    25\n",
      "Fatma    25\n",
      "Name: age, dtype: object\n",
      "\n",
      "Hale     F\n",
      "Ahmet    M\n",
      "Fatma    F\n",
      "Name: gender, dtype: object\n",
      "\n",
      "       Hale Ahmet Fatma\n",
      "age      25    25    25\n",
      "gender    F     M     F\n"
     ]
    }
   ],
   "source": [
    "ogr3={\"Hale\":pd.Series(data=[25,\"F\",\"CE\",67], index=[\"age\",\"gender\",\"departmant\",\"height\"]),\n",
    "     \"Ahmet\":pd.Series(data=[25,\"M\",\"EE\",83], index=[\"age\",\"gender\",\"departmant\",\"height\"]), \n",
    "     \"Fatma\":pd.Series(data=[25,\"F\",\"CE\",83], index=[\"age\",\"gender\",\"departmant\",\"height\"])\n",
    "    }\n",
    "df_ogr3=pd.DataFrame(ogr3)\n",
    "print(df_ogr3)\n",
    "print()\n",
    "# index degerlerine loc veya iloc yapısı ile ulaşıyorduk \n",
    "print(df_ogr3.loc[\"age\"])\n",
    "print()\n",
    "print(df_ogr3.loc[\"gender\"])\n",
    "print()\n",
    "print(df_ogr3.loc[[\"age\",\"gender\"]])"
   ]
  },
  {
   "cell_type": "code",
   "execution_count": 4,
   "id": "3dfe80f1-4d46-4ec5-a06b-59e35155ddbf",
   "metadata": {},
   "outputs": [
    {
     "name": "stdout",
     "output_type": "stream",
     "text": [
      "           Hale Ahmet Fatma\n",
      "age          25    25    25\n",
      "gender        F     M     F\n",
      "departmant   CE    EE    CE\n",
      "height       67    83    83\n",
      "\n",
      "25\n",
      "\n",
      "CE\n"
     ]
    }
   ],
   "source": [
    "# veri kayıtları arasından(satır bilgileri) tek bir veriye ulaşmak istersek: \n",
    "# dataframe[colum][row] yapısı ile ulaşırız\n",
    "print(df_ogr3)\n",
    "print()\n",
    "print(df_ogr3[\"Hale\"][\"age\"])\n",
    "print()\n",
    "print(df_ogr3[\"Fatma\"][\"departmant\"])"
   ]
  },
  {
   "cell_type": "markdown",
   "id": "7f8ba75a-a4c5-4fb5-ab33-80c000d71bd1",
   "metadata": {},
   "source": [
    "DataFrame yapısı için görüntüleme işlemlerini inceledik.Şimdi de dataframe veri yapısına yeni veri kayıtları ekleyelim \n",
    "yani yeni sütun degerlerine karşılık gelicek olan yeni satır degerleri"
   ]
  },
  {
   "cell_type": "code",
   "execution_count": 5,
   "id": "3d2a29dd-4230-46f9-a71e-e902ebebbff9",
   "metadata": {},
   "outputs": [
    {
     "name": "stdout",
     "output_type": "stream",
     "text": [
      "           Hale Ahmet Fatma\n",
      "age          25    25    25\n",
      "gender        F     M     F\n",
      "departmant   CE    EE    CE\n",
      "height       67    83    83\n",
      "\n",
      "           Hale Ahmet Fatma Fatih\n",
      "age          25    25    25    18\n",
      "gender        F     M     F     M\n",
      "departmant   CE    EE    CE   EHM\n",
      "height       67    83    83   190\n"
     ]
    }
   ],
   "source": [
    "# df_ogr3 dataframe verisine \"Fatih\" sütun isminde yeni bir sütun ve satır degerlerini ekleyelim\n",
    "print(df_ogr3)\n",
    "print()\n",
    "df_ogr3[\"Fatih\"]=[18,\"M\",\"EHM\",190]\n",
    "print(df_ogr3)"
   ]
  },
  {
   "cell_type": "code",
   "execution_count": 6,
   "id": "6580dbdb-10c9-4616-88ac-f4ebff1cb3e3",
   "metadata": {},
   "outputs": [
    {
     "name": "stdout",
     "output_type": "stream",
     "text": [
      "           Hale Ahmet Fatma Fatih Fatih2\n",
      "age          25    25    25    18     50\n",
      "gender        F     M     F     M     FM\n",
      "departmant   CE    EE    CE   EHM   CEEE\n",
      "height       67    83    83   190    166\n"
     ]
    }
   ],
   "source": [
    "# yeni bir sütun degerinin verileri var olan iki sütunun satır degerleri olucak şekilde ekleme yapalım: \n",
    "df_ogr3[\"Fatih2\"]=df_ogr3[\"Fatma\"] + df_ogr3[\"Ahmet\"]\n",
    "print(df_ogr3)"
   ]
  },
  {
   "cell_type": "markdown",
   "id": "ad45affb-6b72-4109-a24e-f93b312ff6a0",
   "metadata": {},
   "source": [
    "dataframe yapısını bir sql tablosu gibi düşünüyorduk.şimdiye kadar aslında veri setine hep yeni bir kayıt ekledik Fatih\n",
    "Fatih2 isminde falan. şimdi ise yeni bir satır eklemeyi görelim.yeni bir satır eklemek demek aslında yeni bir değişken yapısı eklmek demek.elimizde age,gender,departmant,height değişkenleri var bunlara ek olarak surname değişkenini ekleyelim Not:burda hata aldık tekrar bak"
   ]
  },
  {
   "cell_type": "code",
   "execution_count": 24,
   "id": "da3b6044-916a-4881-9c08-eb59503c77fd",
   "metadata": {},
   "outputs": [
    {
     "name": "stdout",
     "output_type": "stream",
     "text": [
      "           Hale Ahmet Fatma\n",
      "age          25    25    25\n",
      "gender        F     M     F\n",
      "departmant   CE    EE    CE\n",
      "height       67    83    83\n"
     ]
    }
   ],
   "source": [
    "# yeni kayıt eklemek için baştaki orjinal dataframemizi alalım daha net görelim\n",
    "ogr4={\"Hale\":pd.Series(data=[25,\"F\",\"CE\",67], index=[\"age\",\"gender\",\"departmant\",\"height\"]),\n",
    "     \"Ahmet\":pd.Series(data=[25,\"M\",\"EE\",83], index=[\"age\",\"gender\",\"departmant\",\"height\"]), \n",
    "     \"Fatma\":pd.Series(data=[25,\"F\",\"CE\",83], index=[\"age\",\"gender\",\"departmant\",\"height\"])\n",
    "    }\n",
    "df_ogr4=pd.DataFrame(ogr4)\n",
    "print(df_ogr4)\n",
    "# surname değişkenini eklemek içinde yeni dataframeler yaratıcaz\n",
    "# EKLEME İŞLEMİNİ TAMAMLAYAMADIM "
   ]
  },
  {
   "cell_type": "code",
   "execution_count": 27,
   "id": "a8c916b7-c736-4146-ad7b-7ffa9a9ad471",
   "metadata": {},
   "outputs": [
    {
     "name": "stdout",
     "output_type": "stream",
     "text": [
      "           Hale Ahmet Fatma\n",
      "age          25    25    25\n",
      "gender        F     M     F\n",
      "departmant   CE    EE    CE\n",
      "height       67    83    83\n",
      "\n",
      "           Ahmet Fatma\n",
      "age           25    25\n",
      "gender         M     F\n",
      "departmant    EE    CE\n",
      "height        83    83\n"
     ]
    }
   ],
   "source": [
    "# sütun veya satır silmek için:\n",
    "# pop() metodu kolonu yani aslında bir kaydın tamammını drop() ise hem kolonu hem satırı siler\n",
    "ogr5={\"Hale\":pd.Series(data=[25,\"F\",\"CE\",67], index=[\"age\",\"gender\",\"departmant\",\"height\"]),\n",
    "     \"Ahmet\":pd.Series(data=[25,\"M\",\"EE\",83], index=[\"age\",\"gender\",\"departmant\",\"height\"]), \n",
    "     \"Fatma\":pd.Series(data=[25,\"F\",\"CE\",83], index=[\"age\",\"gender\",\"departmant\",\"height\"])\n",
    "    }\n",
    "df_ogr5=pd.DataFrame(ogr5)\n",
    "print(df_ogr5)\n",
    "print()\n",
    "df_ogr5.pop(\"Hale\")\n",
    "print(df_ogr5)\n"
   ]
  },
  {
   "cell_type": "markdown",
   "id": "6928637a-b9be-49d9-8ef9-fb0d7db28cd4",
   "metadata": {},
   "source": [
    "DİKKAT!: yukarıdaki kodu birden fazla kez çalıştırısak yani pop ile bir kere silinen kaydı tekrar silmeye çalışırsak hata alırız çünkü olmayan bir veriyi silmeye çalışıyoruz."
   ]
  },
  {
   "cell_type": "code",
   "execution_count": null,
   "id": "ffb897a8-2b79-4173-b00e-de32856442f6",
   "metadata": {},
   "outputs": [],
   "source": []
  },
  {
   "cell_type": "code",
   "execution_count": null,
   "id": "d2123f71-65e0-49ea-b421-2b8b702b9ae9",
   "metadata": {},
   "outputs": [],
   "source": []
  },
  {
   "cell_type": "code",
   "execution_count": null,
   "id": "050d2d41-7be0-4dc5-bf97-fd74beb6e953",
   "metadata": {},
   "outputs": [],
   "source": []
  },
  {
   "cell_type": "code",
   "execution_count": null,
   "id": "14082dd2-cfc0-4053-b84a-288170130b8d",
   "metadata": {},
   "outputs": [],
   "source": []
  }
 ],
 "metadata": {
  "kernelspec": {
   "display_name": "Python 3 (ipykernel)",
   "language": "python",
   "name": "python3"
  },
  "language_info": {
   "codemirror_mode": {
    "name": "ipython",
    "version": 3
   },
   "file_extension": ".py",
   "mimetype": "text/x-python",
   "name": "python",
   "nbconvert_exporter": "python",
   "pygments_lexer": "ipython3",
   "version": "3.11.0"
  }
 },
 "nbformat": 4,
 "nbformat_minor": 5
}
