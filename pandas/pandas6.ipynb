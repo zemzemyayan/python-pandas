{
 "cells": [
  {
   "cell_type": "code",
   "execution_count": 1,
   "id": "5af32816-fbe8-4e8f-b0ea-becceb535cbe",
   "metadata": {},
   "outputs": [],
   "source": [
    "import pandas as pd \n",
    "import numpy as np "
   ]
  },
  {
   "cell_type": "markdown",
   "id": "4ece4e19-729c-4815-8053-1df124ba0d6f",
   "metadata": {},
   "source": [
    "Bu bölümde veri setindeki eksik veriler yani NaN verileri üzerine ve Dökümantasyon okuma üzerine konuşucaz.Aşağıdaki kullanımları  inceleyiniz ve komutların NaN verileri uzerinde nasıl işlemler yaptığını inceleyin "
   ]
  },
  {
   "cell_type": "code",
   "execution_count": 2,
   "id": "c4fe5ff4-18f9-4d50-8596-df8a7615e03a",
   "metadata": {},
   "outputs": [
    {
     "name": "stdout",
     "output_type": "stream",
     "text": [
      "             Hale Ahmet  Fatma\n",
      "age            25    25     25\n",
      "departmant     CE    EE     CE\n",
      "gender        NaN     M    NaN\n",
      "height         67   NaN     83\n",
      "surname     Cetin   NaN  Fahri\n",
      "weight        NaN    83    NaN\n",
      "\n"
     ]
    }
   ],
   "source": [
    "ogr1={\"Hale\":pd.Series(data=[25,\"Cetin\",\"CE\",67], index=[\"age\",\"surname\",\"departmant\",\"height\"]),\n",
    "     \"Ahmet\":pd.Series(data=[25,\"M\",\"EE\",83], index=[\"age\",\"gender\",\"departmant\",\"weight\"]), \n",
    "     \"Fatma\":pd.Series(data=[25,\"Fahri\",\"CE\",83], index=[\"age\",\"surname\",\"departmant\",\"height\"])\n",
    "    }\n",
    "df_og1=pd.DataFrame(ogr1)\n",
    "print(df_og1)\n",
    "print()"
   ]
  },
  {
   "cell_type": "code",
   "execution_count": 4,
   "id": "cc6372df-b9ed-4b0e-98e5-30e1e90ffd83",
   "metadata": {},
   "outputs": [
    {
     "name": "stdout",
     "output_type": "stream",
     "text": [
      "             Hale  Ahmet  Fatma\n",
      "age         False  False  False\n",
      "departmant  False  False  False\n",
      "gender       True  False   True\n",
      "height      False   True  False\n",
      "surname     False   True  False\n",
      "weight       True  False   True\n",
      "<class 'pandas.core.frame.DataFrame'>\n",
      "\n",
      "Hale     2\n",
      "Ahmet    2\n",
      "Fatma    2\n",
      "dtype: int64\n",
      "<class 'pandas.core.series.Series'>\n",
      "\n"
     ]
    }
   ],
   "source": [
    "# isnull() metodu NaN ise true deger varsa false doner: \n",
    "x=df_og1.isnull()\n",
    "print(x)\n",
    "print(type(x))\n",
    "print()\n",
    "# sütunlardaki NaN degerlerini sayısının toplamını görmek istersek: \n",
    "y=df_og1.isnull().sum()\n",
    "print(y)\n",
    "print(type(y))\n",
    "print()"
   ]
  },
  {
   "cell_type": "code",
   "execution_count": null,
   "id": "84a60b21-2d99-4ff4-8a44-76577e9e581a",
   "metadata": {},
   "outputs": [],
   "source": []
  },
  {
   "cell_type": "code",
   "execution_count": null,
   "id": "354ef2b6-329d-47fb-a1f3-ccb193a0a952",
   "metadata": {},
   "outputs": [],
   "source": []
  },
  {
   "cell_type": "code",
   "execution_count": null,
   "id": "cb2ab923-65a9-4ccc-8b81-6ef5956fed6d",
   "metadata": {},
   "outputs": [],
   "source": []
  },
  {
   "cell_type": "code",
   "execution_count": null,
   "id": "af824c56-5ef8-4e15-b27e-28a04a2def48",
   "metadata": {},
   "outputs": [],
   "source": []
  },
  {
   "cell_type": "code",
   "execution_count": null,
   "id": "6813b1f0-0ae8-45b2-85c1-8fec09821670",
   "metadata": {},
   "outputs": [],
   "source": []
  },
  {
   "cell_type": "code",
   "execution_count": null,
   "id": "dd406e9c-cc59-4949-b061-8f51d897d3df",
   "metadata": {},
   "outputs": [],
   "source": []
  },
  {
   "cell_type": "code",
   "execution_count": null,
   "id": "ef5f2826-d2e9-40b3-add3-5b3c820d2241",
   "metadata": {},
   "outputs": [],
   "source": []
  },
  {
   "cell_type": "code",
   "execution_count": null,
   "id": "0bd71488-624c-439a-9acd-8111b1432218",
   "metadata": {},
   "outputs": [],
   "source": []
  }
 ],
 "metadata": {
  "kernelspec": {
   "display_name": "Python 3 (ipykernel)",
   "language": "python",
   "name": "python3"
  },
  "language_info": {
   "codemirror_mode": {
    "name": "ipython",
    "version": 3
   },
   "file_extension": ".py",
   "mimetype": "text/x-python",
   "name": "python",
   "nbconvert_exporter": "python",
   "pygments_lexer": "ipython3",
   "version": "3.11.0"
  }
 },
 "nbformat": 4,
 "nbformat_minor": 5
}
