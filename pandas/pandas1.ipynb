{
 "cells": [
  {
   "cell_type": "code",
   "execution_count": 1,
   "id": "26e40f69-27e1-4ce0-96ce-d9fa5f9b9c48",
   "metadata": {},
   "outputs": [],
   "source": [
    "import pandas as pd \n",
    "import numpy as np"
   ]
  },
  {
   "cell_type": "markdown",
   "id": "338c7893-9c95-4237-a4c7-50a13414df85",
   "metadata": {},
   "source": [
    "# Pandas Giriş\n",
    "pandas da veriler tablo şeklinde tutulabilir yani verilerin birden fazla öznitelikleri olabilir\n",
    "pandas serileri ve dataframe yapılarıyla kolyaca veri analizi yapmamızı sağlar\n",
    "pandas numpy üzerine kurulmuş bir kütüphanedir farkları pandas da heterojen veri yapılarıyla çalışabiliriz\n",
    "pandas ta indexleme numpy da olduğu gibi sadece numerik değildir istediğimiz şekilde indexleme yapabiliriz.\n"
   ]
  },
  {
   "cell_type": "code",
   "execution_count": 2,
   "id": "198109bb-5c23-4798-a204-4db070247e77",
   "metadata": {},
   "outputs": [
    {
     "name": "stdout",
     "output_type": "stream",
     "text": [
      "2.1.4\n"
     ]
    }
   ],
   "source": [
    "# pandas yüklü versiyonunu öğrenmek için: \n",
    "print(pd.__version__)"
   ]
  },
  {
   "cell_type": "code",
   "execution_count": 3,
   "id": "3ba5c5ac-11f3-494f-ac1c-d502076a776d",
   "metadata": {},
   "outputs": [
    {
     "name": "stdout",
     "output_type": "stream",
     "text": [
      "['Zeynep', 23, 'CE']\n",
      "<class 'list'>\n",
      "\n",
      "0    Zeynep\n",
      "1        23\n",
      "2        CE\n",
      "dtype: object\n",
      "<class 'pandas.core.series.Series'>\n"
     ]
    }
   ],
   "source": [
    "# ilk veri seti örneğimizi python liste yapısından olsun \n",
    "student=[\"Zeynep\",23,\"CE\"]\n",
    "print(student)\n",
    "print(type(student))\n",
    "print()\n",
    "ps_student=pd.Series(student)\n",
    "print(ps_student)\n",
    "print(type(ps_student))"
   ]
  },
  {
   "cell_type": "markdown",
   "id": "87db5e76-f1c9-47bc-bb00-4ce453f0d6a7",
   "metadata": {},
   "source": [
    "liste halindeki veri series yapısı sayesinde numerik bir indexleme ile karşımıza geldi\n",
    "liste yapısı pandas series yapısına dönüştürmüş olduk"
   ]
  },
  {
   "cell_type": "code",
   "execution_count": 4,
   "id": "f4a6a2ed-38e3-4e55-9202-507f784b2d27",
   "metadata": {},
   "outputs": [
    {
     "name": "stdout",
     "output_type": "stream",
     "text": [
      "{'name': 'zemzem', 'surname': 'yayan', 'age': '22'}\n",
      "<class 'dict'>\n",
      "\n",
      "name       zemzem\n",
      "surname     yayan\n",
      "age            22\n",
      "dtype: object\n",
      "<class 'pandas.core.series.Series'>\n"
     ]
    }
   ],
   "source": [
    "# diğer veri seti örneğimizi bir dictionary üzerinden inceleyelim \n",
    "student1={\n",
    "    \"name\":\"zemzem\",\n",
    "    \"surname\":\"yayan\",\n",
    "    \"age\":\"22\"\n",
    "}\n",
    "print(student1)\n",
    "print(type(student1))\n",
    "print()\n",
    "ps_student1=pd.Series(student1)\n",
    "print(ps_student1)\n",
    "print(type(ps_student1))"
   ]
  },
  {
   "cell_type": "markdown",
   "id": "36d747b3-3c11-4f91-95dd-03fa69e6e366",
   "metadata": {},
   "source": [
    "pandas series yapısı sözlük yapısındaki key degerlerini birer index numarası olarak alır"
   ]
  },
  {
   "cell_type": "code",
   "execution_count": 6,
   "id": "13faf1d5-364f-45ea-8ea3-64c729642f64",
   "metadata": {},
   "outputs": [
    {
     "name": "stdout",
     "output_type": "stream",
     "text": [
      "<class 'pandas.core.series.Series'>\n",
      "0        ali\n",
      "1         23\n",
      "2    ogrenci\n",
      "dtype: object\n",
      "-------------\n",
      "<class 'pandas.core.series.Series'>\n",
      "0    22\n",
      "1    34\n",
      "2    67\n",
      "dtype: int64\n",
      "-------------\n",
      "<class 'pandas.core.series.Series'>\n",
      "0     3.4\n",
      "1    55.0\n",
      "2     7.0\n",
      "dtype: float64\n",
      "-------------\n",
      "<class 'pandas.core.series.Series'>\n",
      "0     True\n",
      "1    False\n",
      "2    False\n",
      "3     True\n",
      "dtype: bool\n"
     ]
    }
   ],
   "source": [
    "# series veri yapsı çok değşkneli verileri tutabiliyordu\n",
    "veri=pd.Series([\"ali\",23,\"ogrenci\"])\n",
    "print(type(veri))\n",
    "print(veri)\n",
    "print(\"-------------\")\n",
    "veri2=pd.Series([22,34,67])\n",
    "print(type(veri2))\n",
    "print(veri2)\n",
    "print(\"-------------\")\n",
    "veri3=pd.Series([3.4,55,7])\n",
    "print(type(veri3))\n",
    "print(veri3)\n",
    "print(\"-------------\")\n",
    "veri4=pd.Series([True,False,False,True])\n",
    "print(type(veri4))\n",
    "print(veri4)"
   ]
  },
  {
   "cell_type": "code",
   "execution_count": 9,
   "id": "cc758d84-2d89-463b-affa-18059cb6f02e",
   "metadata": {},
   "outputs": [
    {
     "name": "stdout",
     "output_type": "stream",
     "text": [
      "ogrenci \n",
      "name                 Ahmet\n",
      "age                     23\n",
      "bolum    Yazilim Muhendisi\n",
      "dtype: object\n",
      "\n",
      "ogrenci.values \n",
      "['Ahmet' 23 'Yazilim Muhendisi']\n",
      "\n",
      "ogrenci.index \n",
      "Index(['name', 'age', 'bolum'], dtype='object')\n",
      "\n",
      "ogrenci.shape \n",
      "(3,)\n",
      "\n",
      "ogrenci.ndim \n",
      "1\n",
      "\n",
      "ogrenci.size \n",
      "3\n",
      "\n",
      "ogrenci.name \n",
      "None\n",
      "\n",
      "ogernci.dtype\n",
      "object\n",
      "\n"
     ]
    }
   ],
   "source": [
    "# aşağıdaki bazı kullanımları inceleyelim \n",
    "ogrenci=pd.Series(data=[\"Ahmet\",23,\"Yazilim Muhendisi\"], index=[\"name\",\"age\",\"bolum\"])\n",
    "print(\"ogrenci \")\n",
    "print(ogrenci)\n",
    "print()\n",
    "print(\"ogrenci.values \")\n",
    "print(ogrenci.values)\n",
    "print()\n",
    "print(\"ogrenci.index \")\n",
    "print(ogrenci.index)\n",
    "print()\n",
    "print(\"ogrenci.shape \")\n",
    "print(ogrenci.shape) # shape tuple doner kaç boyutlu ise arayı , ile ayırır\n",
    "print()\n",
    "print(\"ogrenci.ndim \")\n",
    "print(ogrenci.ndim) # ndim boyut sayısını doner\n",
    "print()\n",
    "print(\"ogrenci.size \")\n",
    "print(ogrenci.size) # values sayılarını doner\n",
    "print()\n",
    "print(\"ogrenci.name \")\n",
    "print(ogrenci.name)\n",
    "print()\n",
    "print(\"ogernci.dtype\")\n",
    "print(ogrenci.dtype)\n",
    "print()"
   ]
  },
  {
   "cell_type": "code",
   "execution_count": 11,
   "id": "f04a7f17-0fc2-487b-ba66-1d1d766e0ca3",
   "metadata": {},
   "outputs": [
    {
     "name": "stdout",
     "output_type": "stream",
     "text": [
      "ogrenci \n",
      "name                 Ahmet\n",
      "age                     23\n",
      "bolum    Yazilim Muhendisi\n",
      "dtype: object\n",
      "\n",
      "x->  True\n",
      "y->  False\n",
      "\n",
      "x1->  False\n",
      "\n",
      "y1->  False\n"
     ]
    }
   ],
   "source": [
    "# bir series yapısının index ve values verilerinde arama yapmak istersek : \n",
    "ogrenci=pd.Series(data=[\"Ahmet\",23,\"Yazilim Muhendisi\"], index=[\"name\",\"age\",\"bolum\"])\n",
    "print(\"ogrenci \")\n",
    "print(ogrenci)\n",
    "print()\n",
    "# index sorugulama\n",
    "x=\"name\" in ogrenci\n",
    "print(\"x-> \",x)\n",
    "y=\"job\" in ogrenci\n",
    "print(\"y-> \",y)\n",
    "print()\n",
    "# values sorgulama\n",
    "x1=\"hakan\" in ogrenci.values\n",
    "print(\"x1-> \", x1)\n",
    "print()\n",
    "y1=\"insaatmuhendisligi\" in ogrenci.values\n",
    "print(\"y1-> \", y1)"
   ]
  },
  {
   "cell_type": "code",
   "execution_count": 13,
   "id": "38ac729b-bfa1-4758-a158-77124d3f2cc5",
   "metadata": {},
   "outputs": [
    {
     "name": "stdout",
     "output_type": "stream",
     "text": [
      "0        1\n",
      "1        2\n",
      "2        3\n",
      "3        4\n",
      "4        5\n",
      "      ... \n",
      "294    295\n",
      "295    296\n",
      "296    297\n",
      "297    298\n",
      "298    299\n",
      "Length: 299, dtype: int64\n",
      "numbers.sum()->  44850\n",
      "numbers.mean()->  150.0\n",
      "numbers.product()->  0\n"
     ]
    }
   ],
   "source": [
    "# aşağıdai basit istatiksel hesaplamalra bakalım\n",
    "numbers=pd.Series(range(1,300))\n",
    "print(numbers)\n",
    "print(\"numbers.sum()-> \", numbers.sum())\n",
    "print(\"numbers.mean()-> \", numbers.mean())\n",
    "print(\"numbers.product()-> \", numbers.product())"
   ]
  },
  {
   "cell_type": "code",
   "execution_count": null,
   "id": "1456bcdb-4e0a-45fc-92a7-d34b6ee4878e",
   "metadata": {},
   "outputs": [],
   "source": []
  },
  {
   "cell_type": "code",
   "execution_count": null,
   "id": "4ebe64c5-4aa8-490e-a7b5-0a50bac4103d",
   "metadata": {},
   "outputs": [],
   "source": []
  },
  {
   "cell_type": "code",
   "execution_count": null,
   "id": "16170c4c-4899-4f8b-9496-a3734bc4b40b",
   "metadata": {},
   "outputs": [],
   "source": []
  },
  {
   "cell_type": "code",
   "execution_count": null,
   "id": "60563a30-608d-4b02-9b58-94bd867a5833",
   "metadata": {},
   "outputs": [],
   "source": []
  }
 ],
 "metadata": {
  "kernelspec": {
   "display_name": "Python 3 (ipykernel)",
   "language": "python",
   "name": "python3"
  },
  "language_info": {
   "codemirror_mode": {
    "name": "ipython",
    "version": 3
   },
   "file_extension": ".py",
   "mimetype": "text/x-python",
   "name": "python",
   "nbconvert_exporter": "python",
   "pygments_lexer": "ipython3",
   "version": "3.11.0"
  }
 },
 "nbformat": 4,
 "nbformat_minor": 5
}
